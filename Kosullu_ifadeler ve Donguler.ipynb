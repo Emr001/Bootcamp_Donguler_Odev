{
 "cells": [
  {
   "cell_type": "markdown",
   "metadata": {},
   "source": [
    "## Problem 1"
   ]
  },
  {
   "cell_type": "code",
   "execution_count": 8,
   "metadata": {},
   "outputs": [
    {
     "name": "stdout",
     "output_type": "stream",
     "text": [
      "Sonunda C veya F olan sıcaklık degerini giriniz:40C\n",
      "Sıcaklık Fahrenheit 104 derece.\n"
     ]
    }
   ],
   "source": [
    "\n",
    "sıcaklık = input(\"Sonunda C veya F olan sıcaklık degerini giriniz:\")\n",
    "derece = int(sıcaklık[:-1])\n",
    "kosul_harf = sıcaklık[-1]\n",
    "\n",
    "if kosul_harf.upper()==\"C\":\n",
    "    sonuc = int(round((9*derece)/5 + 32))\n",
    "    harf = \"Fahrenheit\"\n",
    "elif kosul_harf.upper()==\"F\":\n",
    "    sonuc = int(round((derece - 32) * 5 / 9))\n",
    "    harf = \"Celsius\"\n",
    "else:\n",
    "    print(\"Lütfen doğru bir koşul giriniz.\")\n",
    "    \n",
    "print(\"Sıcaklık\", harf, sonuc,\"derece.\")\n"
   ]
  },
  {
   "cell_type": "markdown",
   "metadata": {},
   "source": [
    "## Problem 2"
   ]
  },
  {
   "cell_type": "code",
   "execution_count": 12,
   "metadata": {},
   "outputs": [
    {
     "name": "stdout",
     "output_type": "stream",
     "text": [
      "Lütfen bir kelime giriniz:otobus\n",
      "s\n",
      "u\n",
      "b\n",
      "o\n",
      "t\n",
      "o\n"
     ]
    }
   ],
   "source": [
    "kelime = input(\"Lütfen bir kelime giriniz:\")\n",
    "uzunluk = len(kelime)-1\n",
    "while uzunluk>=0:\n",
    "    print(kelime[uzunluk])\n",
    "    uzunluk -=1\n"
   ]
  },
  {
   "cell_type": "markdown",
   "metadata": {},
   "source": [
    "## Problem 3"
   ]
  },
  {
   "cell_type": "code",
   "execution_count": 19,
   "metadata": {},
   "outputs": [
    {
     "name": "stdout",
     "output_type": "stream",
     "text": [
      "1\n",
      "1\n",
      "2\n",
      "3\n",
      "5\n",
      "8\n",
      "13\n",
      "21\n",
      "34\n"
     ]
    }
   ],
   "source": [
    "x,y = 0,1\n",
    "while y<50:\n",
    "    print(y)\n",
    "    x,y = y,x+y"
   ]
  },
  {
   "cell_type": "markdown",
   "metadata": {},
   "source": [
    "## Problem 4"
   ]
  },
  {
   "cell_type": "code",
   "execution_count": 23,
   "metadata": {},
   "outputs": [
    {
     "name": "stdout",
     "output_type": "stream",
     "text": [
      "Lütfen bir sayı griniz:6\n",
      "6 * 1 = 6\n",
      "6 * 2 = 12\n",
      "6 * 3 = 18\n",
      "6 * 4 = 24\n",
      "6 * 5 = 30\n",
      "6 * 6 = 36\n",
      "6 * 7 = 42\n",
      "6 * 8 = 48\n",
      "6 * 9 = 54\n",
      "6 * 10 = 60\n"
     ]
    }
   ],
   "source": [
    "kosul = 1\n",
    "sayı = int(input(\"Lütfen bir sayı griniz:\"))\n",
    "while kosul <=10:\n",
    "    print(sayı,\"*\",kosul, \"=\",sayı*kosul)\n",
    "    kosul +=1\n",
    "\n"
   ]
  },
  {
   "cell_type": "markdown",
   "metadata": {},
   "source": [
    "## Problem 5"
   ]
  },
  {
   "cell_type": "code",
   "execution_count": 25,
   "metadata": {},
   "outputs": [
    {
     "name": "stdout",
     "output_type": "stream",
     "text": [
      "[1, 8, 9, 64, 25, 216, 49, 512, 81, 1000, 121, 1728, 169, 2744, 225, 4096, 289, 5832, 361, 8000]\n"
     ]
    }
   ],
   "source": [
    "liste = [x**3 if x%2==0 else x**2 for x in range(1,21)]\n",
    "print(liste)"
   ]
  },
  {
   "cell_type": "code",
   "execution_count": null,
   "metadata": {},
   "outputs": [],
   "source": []
  }
 ],
 "metadata": {
  "kernelspec": {
   "display_name": "Python 3",
   "language": "python",
   "name": "python3"
  },
  "language_info": {
   "codemirror_mode": {
    "name": "ipython",
    "version": 3
   },
   "file_extension": ".py",
   "mimetype": "text/x-python",
   "name": "python",
   "nbconvert_exporter": "python",
   "pygments_lexer": "ipython3",
   "version": "3.8.5"
  }
 },
 "nbformat": 4,
 "nbformat_minor": 4
}
